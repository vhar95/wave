{
 "cells": [
  {
   "cell_type": "code",
   "execution_count": 12,
   "metadata": {},
   "outputs": [
    {
     "name": "stdout",
     "output_type": "stream",
     "text": [
      "Lista [('A', 15), ('B', 7)]\n",
      "Final [['A', 15, ''], ['B', 7, '']]\n",
      "l1 [['A', 15, '']]\n",
      "l2 [['B', 7, '']]\n",
      "Label Iter -  {'A': '0', 'B': '1'}\n",
      "Final Codebook -  None\n"
     ]
    }
   ],
   "source": [
    "import collections\n",
    "message = \"AAAAAAAAAAAAAAABBBBBBBCCCCCCDDDDDDEEEEE\"\n",
    "code_book = {}\n",
    "\n",
    "\n",
    "def create_list(message):\n",
    "    # make a list of letters with frequency\n",
    "    list = dict(collections.Counter(message))\n",
    "\n",
    "    # sort the list in descending order\n",
    "    list_sorted = sorted(list.items(), key = lambda kv: (-kv[1], kv[0]) ,reverse=False)\n",
    "    print(\"Lista\",list_sorted)\n",
    "    # format the final list as - [letter,frequency,code]\n",
    "    final_list = []\n",
    "    for key,value in list_sorted:\n",
    "        final_list.append([key,value,''])\n",
    "\n",
    "    # return final list\n",
    "    print(\"Final\",final_list)\n",
    "    return final_list\n",
    "\n",
    "\n",
    "def divide_list(list):\n",
    "    if len(list) == 2:\n",
    "        return [list[0]],[list[1]]\n",
    "    else:\n",
    "        n = 0\n",
    "        for i in list:\n",
    "            n += i[1]\n",
    "        x = 0\n",
    "        distance = abs(2*x - n)\n",
    "        j = 0\n",
    "        for i in range(len(list)):\n",
    "            x += list[i][1]\n",
    "            if distance < abs(2*x - n):\n",
    "                j = i\n",
    "                \n",
    "    return list[0:j+1], list[j+1:]\n",
    "\n",
    "\n",
    "def label_list(list):\n",
    "    l1,l2 = divide_list(list)\n",
    "    print(\"l1\",l1)\n",
    "    print(\"l2\",l2)\n",
    "    for i in l1:\n",
    "        i[2] += '0'\n",
    "        code_book[i[0]] = i[2]\n",
    "    for i in l2:\n",
    "        i[2] += '1'\n",
    "        code_book[i[0]] = i[2]\n",
    "    print (\"Label Iter - \",code_book)\n",
    "    if len(l1)==1 and len(l2)==1:\n",
    "        return\n",
    "    label_list(l2)\n",
    "    return code_book\n",
    "\n",
    "\n",
    "\n",
    "cb = label_list(create_list(message))\n",
    "print (\"Final Codebook - \", cb)\n"
   ]
  },
  {
   "cell_type": "code",
   "execution_count": 29,
   "metadata": {},
   "outputs": [
    {
     "name": "stdout",
     "output_type": "stream",
     "text": [
      "Symbol\tWeight\tHuffman Code\n",
      "A\t15\t0\n",
      "B\t7\t111\n",
      "C\t6\t101\n",
      "D\t6\t110\n",
      "E\t5\t100\n"
     ]
    }
   ],
   "source": [
    "from heapq import heappush, heappop, heapify\n",
    "from collections import defaultdict\n",
    " \n",
    "def encode(symb2freq):\n",
    "    \"\"\"Huffman encode the given dict mapping symbols to weights\"\"\"\n",
    "    heap = [[wt, [sym, \"\"]] for sym, wt in symb2freq.items()]\n",
    "    heapify(heap)\n",
    "    while len(heap) > 1:\n",
    "        lo = heappop(heap)\n",
    "        hi = heappop(heap)\n",
    "        for pair in lo[1:]:\n",
    "            pair[1] = '0' + pair[1]\n",
    "        for pair in hi[1:]:\n",
    "            pair[1] = '1' + pair[1]\n",
    "        heappush(heap, [lo[0] + hi[0]] + lo[1:] + hi[1:])\n",
    "    return sorted(heappop(heap)[1:], key=lambda p: (len(p[-1]), p))\n",
    " \n",
    "\n",
    "txt = \"AAAAAAAAAAAAAAABBBBBBBDDDDDDCCCCCCEEEEE\"\n",
    "symb2freq = defaultdict(int)\n",
    "for ch in txt:\n",
    "    symb2freq[ch] += 1\n",
    "# in Python 3.1+:\n",
    "# symb2freq = collections.Counter(txt)\n",
    "huff = encode(symb2freq)\n",
    "print (\"Symbol\\tWeight\\tHuffman Code\")\n",
    "for p in huff:\n",
    "    print (\"%s\\t%s\\t%s\" % (p[0], symb2freq[p[0]], p[1]))"
   ]
  },
  {
   "cell_type": "code",
   "execution_count": null,
   "metadata": {},
   "outputs": [],
   "source": []
  },
  {
   "cell_type": "code",
   "execution_count": null,
   "metadata": {
    "collapsed": true
   },
   "outputs": [],
   "source": []
  },
  {
   "cell_type": "code",
   "execution_count": null,
   "metadata": {
    "collapsed": true
   },
   "outputs": [],
   "source": []
  },
  {
   "cell_type": "code",
   "execution_count": null,
   "metadata": {
    "collapsed": true
   },
   "outputs": [],
   "source": []
  },
  {
   "cell_type": "code",
   "execution_count": null,
   "metadata": {
    "collapsed": true
   },
   "outputs": [],
   "source": []
  },
  {
   "cell_type": "code",
   "execution_count": null,
   "metadata": {
    "collapsed": true
   },
   "outputs": [],
   "source": []
  },
  {
   "cell_type": "code",
   "execution_count": 7,
   "metadata": {},
   "outputs": [
    {
     "name": "stdout",
     "output_type": "stream",
     "text": [
      "Frequency:  {'j': 3, \"'\": 2, 'a': 4, 'i': 4, 'm': 2, 'e': 8, ' ': 12, 'l': 6, 'r': 5, 's': 6, 'u': 5, 'b': 1, 'o': 3, 'd': 3, 'p': 1}\n",
      "Sort Frequency:  [(1, 'b'), (1, 'p'), (2, \"'\"), (2, 'm'), (3, 'd'), (3, 'j'), (3, 'o'), (4, 'a'), (4, 'i'), (5, 'r'), (5, 'u'), (6, 'l'), (6, 's'), (8, 'e'), (12, ' ')]\n",
      "Huffman tree:  (65, ((26, ((12, ((6, 'l'), (6, 's'))), (14, ((6, ((3, 'j'), (3, 'o'))), (8, 'e'))))), (39, ((17, ((8, ((4, 'a'), (4, 'i'))), (9, ((4, ((2, \"'\"), (2, 'm'))), (5, 'r'))))), (22, ((10, ((5, 'u'), (5, ((2, ((1, 'b'), (1, 'p'))), (3, 'd'))))), (12, ' ')))))))\n",
      "Huffman trimeed tree:  ((('l', 's'), (('j', 'o'), 'e')), ((('a', 'i'), ((\"'\", 'm'), 'r')), (('u', (('b', 'p'), 'd')), ' ')))\n",
      "Codes:  {'l': '000', 's': '001', 'j': '0100', 'o': '0101', 'e': '011', 'a': '1000', 'i': '1001', \"'\": '10100', 'm': '10101', 'r': '1011', 'u': '1100', 'b': '110100', 'p': '110101', 'd': '11011', ' ': '111'}\n",
      "Encode:  01001010010001001101010111111000000000011101111100111001011111000011111110100010110111101111111011011111000101000111000110011100001100111101000111100110111001001111010111001110000110011110100010111001011001111100110101110101100010011011001\n",
      "Original:  j'aime aller sur le bord de l'eau les jeudis ou les jours impairs\n"
     ]
    }
   ],
   "source": [
    "import sys, string\n",
    "\n",
    "codes   = {}\n",
    "\n",
    "def frequency (str) :\n",
    "    freqs = {}\n",
    "    for ch in str :\n",
    "        freqs[ch] = freqs.get(ch,0) + 1 # Get the number of repetitions of character\n",
    "    return freqs\n",
    "\n",
    "def sortFreq (freqs) :\n",
    "    letters = freqs.keys() # Get only the keys-frequency\n",
    "    tuples = []\n",
    "    for let in letters :\n",
    "        tuples.append((freqs[let],let)) # Add the tuple (frequency, character)\n",
    "    tuples.sort() # Sort for frequency\n",
    "    return tuples\n",
    "\n",
    "def buildTree(tuples) :\n",
    "    while len(tuples) > 1 :\n",
    "        leastTwo = tuple(tuples[0:2])                  # get the 2 to combine\n",
    "        theRest  = tuples[2:]                          # all the others\n",
    "        combFreq = leastTwo[0][0] + leastTwo[1][0]     # the branch points freq\n",
    "        tuples   = theRest + [(combFreq,leastTwo)]     # add branch point to the end                                  \n",
    "        tuples.sort(key=lambda t: t[0])                # sort it into place\n",
    "    return tuples[0]                                   # Return the single tree inside the list\n",
    "\n",
    "def trimTree (tree) :\n",
    "     # Leaving just the letters we dont need the frequency\n",
    "    p = tree[1]                                    # ignore freq count in [0]\n",
    "    if type(p) == type(\"\") : return p              # if just a leaf, return it\n",
    "    else : return (trimTree(p[0]), trimTree(p[1])) # trim left then right and recombine\n",
    "\n",
    "def assignCodes (node, pat='') :\n",
    "    global codes\n",
    "    if type(node) == type(\"\") :\n",
    "        codes[node] = pat                # If is a leaf set the code \n",
    "    else  :                              # \n",
    "        assignCodes(node[0], pat+\"0\")    # Else do the left branch\n",
    "        assignCodes(node[1], pat+\"1\")    # then do the right branch. \n",
    "\n",
    "def encode (str) :\n",
    "    global codes # Variable with codes\n",
    "    output = \"\"\n",
    "    for ch in str : output += codes[ch] # Get the code for each character of the string\n",
    "    return output\n",
    "\n",
    "def decode (tree, str) :\n",
    "    output = \"\"\n",
    "    p = tree\n",
    "    for bit in str :\n",
    "        if bit == '0' : p = p[0]     # If the head is 0 go to the left branch\n",
    "        else          : p = p[1]     # else go to the right branch\n",
    "        if type(p) == type(\"\") :     # If type p is equal str\n",
    "            output += p              # Found character and add it in the \n",
    "            p = tree                 # Go to the next character\n",
    "    return output\n",
    "\n",
    "#Example\n",
    "#str = \"aaabccdeeeeeffg\"\n",
    "str= \"j'aime aller sur le bord de l'eau les jeudis ou les jours impairs\"\n",
    "#Frequency\n",
    "freqs = frequency(str)\n",
    "print (\"Frequency: \", freqs)\n",
    "#Sort Frequency\n",
    "tuples = sortFreq(freqs)\n",
    "print (\"Sort Frequency: \",tuples)\n",
    "#Huffman Tree\n",
    "tree = buildTree(tuples)\n",
    "print (\"Huffman tree: \", tree)\n",
    "#Trim Huffman Tree\n",
    "tree = trimTree(tree)\n",
    "print (\"Huffman trimeed tree: \", tree)\n",
    "#Codes\n",
    "assignCodes(tree)\n",
    "print (\"Codes: \",codes)\n",
    "#Encoder\n",
    "encode = encode(str)\n",
    "print (\"Encode: \",encode)\n",
    "#Decoder\n",
    "original = decode(tree,encode)\n",
    "print (\"Original: \",original)\n",
    "\n",
    "\n",
    "\n",
    "\n"
   ]
  },
  {
   "cell_type": "code",
   "execution_count": null,
   "metadata": {
    "collapsed": true
   },
   "outputs": [],
   "source": []
  },
  {
   "cell_type": "code",
   "execution_count": null,
   "metadata": {
    "collapsed": true
   },
   "outputs": [],
   "source": []
  }
 ],
 "metadata": {
  "kernelspec": {
   "display_name": "Python 3",
   "language": "python",
   "name": "python3"
  },
  "language_info": {
   "codemirror_mode": {
    "name": "ipython",
    "version": 3
   },
   "file_extension": ".py",
   "mimetype": "text/x-python",
   "name": "python",
   "nbconvert_exporter": "python",
   "pygments_lexer": "ipython3",
   "version": "3.6.3"
  }
 },
 "nbformat": 4,
 "nbformat_minor": 2
}
